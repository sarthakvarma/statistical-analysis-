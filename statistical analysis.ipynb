{
  "nbformat": 4,
  "nbformat_minor": 0,
  "metadata": {
    "colab": {
      "provenance": []
    },
    "kernelspec": {
      "name": "python3",
      "display_name": "Python 3"
    },
    "language_info": {
      "name": "python"
    }
  },
  "cells": [
    {
      "cell_type": "code",
      "execution_count": null,
      "metadata": {
        "colab": {
          "base_uri": "https://localhost:8080/"
        },
        "id": "5WSZhUa2FCj-",
        "outputId": "9601b23b-02bb-48ac-e49d-dedfbc0823a8"
      },
      "outputs": [
        {
          "output_type": "stream",
          "name": "stdout",
          "text": [
            "Eigenvalues: [-2.61071746 -2.58453914 -2.55490583  2.5642907   2.60966519  2.61459032\n",
            "  5.29550696]\n"
          ]
        }
      ],
      "source": [
        "import numpy as np\n",
        "from scipy.sparse import random\n",
        "from scipy.sparse.linalg import eigs, eigsh\n",
        "\n",
        "\n",
        "n = 1000\n",
        "density = 0.01\n",
        "sparse_matrix = random(n, n, density=density, format='csr', dtype=np.float64)\n",
        "\n",
        "\n",
        "sparse_matrix = (sparse_matrix + sparse_matrix.T) / 2\n",
        "\n",
        "\n",
        "k = 7\n",
        "\n",
        "\n",
        "eigenvalues, eigenvectors = eigsh(sparse_matrix, k=k)\n",
        "\n",
        "\n",
        "\n",
        "print(\"Eigenvalues:\", eigenvalues)\n"
      ]
    },
    {
      "cell_type": "code",
      "source": [],
      "metadata": {
        "id": "pOIsymmeGQLq"
      },
      "execution_count": null,
      "outputs": []
    }
  ]
}